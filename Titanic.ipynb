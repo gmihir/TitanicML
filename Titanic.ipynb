{
 "cells": [
  {
   "cell_type": "code",
   "execution_count": 1,
   "metadata": {},
   "outputs": [],
   "source": [
    "import pandas as pd\n",
    "from sklearn.metrics import accuracy_score\n",
    "from sklearn.ensemble import RandomForestClassifier\n",
    "from sklearn.ensemble import RandomForestRegressor\n",
    "from sklearn.model_selection import train_test_split \n",
    "from sklearn.metrics import mean_absolute_error\n",
    "\n",
    "#retrieve\n",
    "test_file_path = '/Users/mgupta/Downloads/all/test2.csv'\n",
    "train_file_path = '/Users/mgupta/Downloads/all/train.csv'\n",
    "test = pd.read_csv(test_file_path)\n",
    "train = pd.read_csv(train_file_path)\n",
    "gender_submission_file_path = '/Users/mgupta/Downloads/all/gender_submission.csv'\n",
    "gender_submission = pd.read_csv(gender_submission_file_path)\n",
    "\n",
    "#clean gender(male = 0 and female = 1)\n",
    "train['Sex'] = train['Sex'].replace(['male'],0)\n",
    "train['Sex'] = train['Sex'].replace(['female'],1)\n",
    "test['Sex'] = test['Sex'].replace(['male'],0)\n",
    "test['Sex'] = test['Sex'].replace(['female'],1)\n",
    "\n",
    "#clean embarked\n",
    "train['Embarked'] = train['Embarked'].replace(['C'],1)\n",
    "train['Embarked'] = train['Embarked'].replace(['Q'],2)\n",
    "train['Embarked'] = train['Embarked'].replace(['S'],3)\n",
    "test['Embarked'] = test['Embarked'].replace(['C'],1)\n",
    "test['Embarked'] = test['Embarked'].replace(['Q'],2)\n",
    "test['Embarked'] = test['Embarked'].replace(['S'],3)\n",
    "train['Embarked'] = train['Embarked'].fillna(train['Embarked'].median())\n",
    "test['Embarked'] = test['Embarked'].fillna(test['Embarked'].median())\n"
   ]
  },
  {
   "cell_type": "code",
   "execution_count": 2,
   "metadata": {},
   "outputs": [],
   "source": [
    "train_age_null = train.Age.isnull()\n",
    "train_age_null_df = train[train_age_null]\n",
    "test_age_null = test.Age.isnull()\n",
    "test_age_null_df = test[test_age_null]"
   ]
  },
  {
   "cell_type": "code",
   "execution_count": 3,
   "metadata": {},
   "outputs": [],
   "source": [
    "#clean age by gender and impute with mean by gender\n",
    "def clean_age(filename,df_name):\n",
    "    ret_lst = []\n",
    "    df = filename.Sex == 0\n",
    "    male_mean = filename[df].Age.mean()\n",
    "    df_f = filename.Sex == 1\n",
    "    female_mean = filename[df_f].Age.mean()\n",
    "    for index, column in df_name.iterrows():\n",
    "        if column.Sex == 0:\n",
    "            ret_lst.append(male_mean)\n",
    "        else:\n",
    "            ret_lst.append(female_mean)\n",
    "    print(female_mean)\n",
    "    print(male_mean)\n",
    "    return ret_lst"
   ]
  },
  {
   "cell_type": "code",
   "execution_count": 4,
   "metadata": {},
   "outputs": [
    {
     "name": "stdout",
     "output_type": "stream",
     "text": [
      "27.915708812260537\n",
      "30.72664459161148\n",
      "30.27236220472441\n",
      "30.27273170731707\n"
     ]
    }
   ],
   "source": [
    "lst_age_train = clean_age(train,train_age_null_df)\n",
    "lst_age_test = clean_age(test,test_age_null_df)"
   ]
  },
  {
   "cell_type": "code",
   "execution_count": 5,
   "metadata": {},
   "outputs": [
    {
     "name": "stderr",
     "output_type": "stream",
     "text": [
      "/Users/mgupta/anaconda3/lib/python3.6/site-packages/ipykernel_launcher.py:3: SettingWithCopyWarning: \n",
      "A value is trying to be set on a copy of a slice from a DataFrame.\n",
      "Try using .loc[row_indexer,col_indexer] = value instead\n",
      "\n",
      "See the caveats in the documentation: http://pandas.pydata.org/pandas-docs/stable/indexing.html#indexing-view-versus-copy\n",
      "  This is separate from the ipykernel package so we can avoid doing imports until\n",
      "/Users/mgupta/anaconda3/lib/python3.6/site-packages/ipykernel_launcher.py:4: SettingWithCopyWarning: \n",
      "A value is trying to be set on a copy of a slice from a DataFrame.\n",
      "Try using .loc[row_indexer,col_indexer] = value instead\n",
      "\n",
      "See the caveats in the documentation: http://pandas.pydata.org/pandas-docs/stable/indexing.html#indexing-view-versus-copy\n",
      "  after removing the cwd from sys.path.\n"
     ]
    }
   ],
   "source": [
    "train_age_null_df.drop('Age',axis = 1)\n",
    "test_age_null_df.drop('Age',axis = 1)\n",
    "train_age_null_df['Age'] = lst_age_train\n",
    "test_age_null_df['Age'] = lst_age_test"
   ]
  },
  {
   "cell_type": "code",
   "execution_count": 6,
   "metadata": {},
   "outputs": [],
   "source": [
    "train[train.Age.isnull()] = train_age_null_df\n",
    "test[test.Age.isnull()] = test_age_null_df"
   ]
  },
  {
   "cell_type": "code",
   "execution_count": 7,
   "metadata": {},
   "outputs": [],
   "source": [
    "#establish role column\n",
    "def rol_col(filename):\n",
    "    ret = []\n",
    "    for name in filename['Name']:\n",
    "        if \"Mme\" in name:\n",
    "            ret.append(1)\n",
    "        elif 'Mr' in name:\n",
    "            ret.append(2)\n",
    "        elif 'Mlle' or 'Miss' or 'Ms' in name:\n",
    "            ret.append(3)\n",
    "        elif 'Lady' or 'Countess' or 'Dona' in name:\n",
    "            ret.append(4)\n",
    "        elif 'Capt' or 'Col' or 'Major' or 'Rev' in name:\n",
    "            ret.append(5)\n",
    "        elif 'Jonkheer' or 'Don' or 'Sir' in name:\n",
    "            ret.append(6)\n",
    "        elif ('Dr' in name) and filename['Sex'] == 'male':\n",
    "            ret.append(2)\n",
    "        elif ('Dr' in name) and filename['Sex'] == 'female':\n",
    "            ret.append(1)\n",
    "    filename['Role'] = ret\n",
    "    filename['Role'] = filename['Role'].fillna(0)"
   ]
  },
  {
   "cell_type": "code",
   "execution_count": 8,
   "metadata": {},
   "outputs": [],
   "source": [
    "#establish alone column\n",
    "def alone_col(filename):\n",
    "    ret = []\n",
    "    for num in filename['SibSp']:\n",
    "        if num == 0:\n",
    "            ret.append(2)\n",
    "        else:\n",
    "            ret.append(1)\n",
    "    index = 0\n",
    "    for num in filename['Parch']:\n",
    "        if num == 0 and ret[index] == 2:\n",
    "            ret[index] = 2\n",
    "        else:\n",
    "            ret[index] = 1\n",
    "        index += 1\n",
    "    filename['Alone'] = ret\n",
    "    filename['Alone'] = filename['Alone'].fillna(0)"
   ]
  },
  {
   "cell_type": "code",
   "execution_count": 9,
   "metadata": {},
   "outputs": [],
   "source": [
    "#apply method to training and test sets\n",
    "rol_col(test)\n",
    "rol_col(train)\n",
    "alone_col(train)\n",
    "alone_col(test)"
   ]
  },
  {
   "cell_type": "code",
   "execution_count": 10,
   "metadata": {},
   "outputs": [],
   "source": [
    "#establish training and target columns\n",
    "columns = ['Pclass', 'Sex', 'Age', 'SibSp', 'Fare','Embarked','Role','Parch','Alone']\n",
    "y = train.Survived\n",
    "X = train[columns]"
   ]
  },
  {
   "cell_type": "code",
   "execution_count": 11,
   "metadata": {},
   "outputs": [
    {
     "name": "stdout",
     "output_type": "stream",
     "text": [
      "0.7822671156004489\n",
      "0.7833894500561167\n",
      "0.8226711560044894\n",
      "0.835016835016835\n",
      "0.8473625140291807\n",
      "0.8597081930415263\n",
      "0.8911335578002245\n",
      "0.9147025813692481\n",
      "0.9135802469135802\n",
      "0.9326599326599326\n",
      "0.9483726150392817\n",
      "0.9629629629629629\n",
      "0.9618406285072951\n",
      "0.9618406285072951\n",
      "0.9607182940516273\n",
      "0.9607182940516273\n",
      "0.9719416386083053\n",
      "0.9753086419753086\n",
      "0.9640852974186308\n",
      "0.9797979797979798\n",
      "0.9696969696969697\n",
      "0.9629629629629629\n",
      "0.9663299663299664\n",
      "0.9719416386083053\n",
      "0.9708193041526375\n",
      "0.978675645342312\n",
      "0.9663299663299664\n",
      "0.9696969696969697\n",
      "0.9753086419753086\n",
      "0.9719416386083053\n",
      "0.9696969696969697\n",
      "0.9663299663299664\n",
      "0.9640852974186308\n",
      "0.9753086419753086\n",
      "0.9719416386083053\n",
      "0.9708193041526375\n",
      "0.9741863075196409\n",
      "0.9764309764309764\n",
      "0.9708193041526375\n",
      "0.9685746352413019\n",
      "0.9730639730639731\n",
      "0.9652076318742986\n",
      "0.9618406285072951\n",
      "0.9663299663299664\n",
      "0.9719416386083053\n",
      "0.9685746352413019\n",
      "0.9719416386083053\n",
      "0.9674523007856342\n",
      "0.9708193041526375\n"
     ]
    }
   ],
   "source": [
    "#determine optimal max_depth for decision tree(47 is optimal)\n",
    "for num in range(1,50):\n",
    "    training_model = RandomForestClassifier(max_depth = num)\n",
    "    training_model.fit(X,y)\n",
    "    test = test[columns].fillna(test.mean()).copy()\n",
    "    training_predicts = training_model.predict(X)\n",
    "    print(str(accuracy_score(y, training_predicts)))"
   ]
  },
  {
   "cell_type": "code",
   "execution_count": 12,
   "metadata": {},
   "outputs": [
    {
     "name": "stdout",
     "output_type": "stream",
     "text": [
      "0.9741863075196409\n",
      "0.9764309764309764\n",
      "0.9820426487093153\n",
      "0.9842873176206509\n",
      "0.9854096520763187\n"
     ]
    }
   ],
   "source": [
    "#determine optimal n_estimators(100 is optimal)\n",
    "for num in [10,20,30,50,100]:\n",
    "    training_model = RandomForestClassifier(n_estimators = num)\n",
    "    training_model.fit(X,y)\n",
    "\n",
    "    test = test[columns].fillna(test.mean()).copy()\n",
    "    training_predicts = training_model.predict(X)\n",
    "    print(accuracy_score(y, training_predicts))"
   ]
  },
  {
   "cell_type": "code",
   "execution_count": 13,
   "metadata": {},
   "outputs": [
    {
     "data": {
      "text/plain": [
       "RandomForestClassifier(bootstrap=True, class_weight=None, criterion='gini',\n",
       "            max_depth=47, max_features='auto', max_leaf_nodes=None,\n",
       "            min_impurity_decrease=0.0, min_impurity_split=None,\n",
       "            min_samples_leaf=1, min_samples_split=2,\n",
       "            min_weight_fraction_leaf=0.0, n_estimators=100, n_jobs=1,\n",
       "            oob_score=False, random_state=42, verbose=0, warm_start=False)"
      ]
     },
     "execution_count": 13,
     "metadata": {},
     "output_type": "execute_result"
    }
   ],
   "source": [
    "#split into train-test\n",
    "train_X, val_X, train_y, val_y = train_test_split(X,y,random_state = 42)\n",
    "my_model = RandomForestClassifier(n_estimators = 100, max_depth = 47, random_state = 42)\n",
    "my_model.fit(train_X, train_y)"
   ]
  },
  {
   "cell_type": "code",
   "execution_count": 14,
   "metadata": {},
   "outputs": [
    {
     "data": {
      "text/plain": [
       "array([0, 0, 0, 1, 1, 0, 0, 0, 1, 0, 0, 0, 1, 0, 1, 1, 0, 0, 0, 1, 1, 1,\n",
       "       1, 1, 1, 0, 1, 1, 1, 0, 0, 0, 1, 0, 1, 0, 0, 0, 0, 0, 0, 0, 0, 1,\n",
       "       1, 0, 0, 0, 1, 1, 1, 0, 1, 1, 0, 0, 0, 0, 0, 1, 0, 0, 0, 1, 1, 1,\n",
       "       1, 0, 0, 1, 1, 0, 0, 0, 1, 0, 0, 1, 0, 1, 1, 0, 0, 0, 0, 0, 1, 0,\n",
       "       1, 1, 1, 0, 1, 0, 0, 0, 1, 0, 0, 0, 1, 0, 0, 0, 0, 0, 0, 0, 0, 0,\n",
       "       0, 1, 1, 1, 1, 0, 0, 1, 0, 1, 1, 0, 1, 0, 0, 0, 0, 1, 1, 0, 1, 0,\n",
       "       0, 0, 0, 0, 0, 0, 0, 0, 0, 1, 0, 0, 1, 0, 0, 0, 0, 0, 1, 0, 0, 1,\n",
       "       0, 0, 1, 0, 1, 1, 1, 1, 1, 0, 0, 0, 0, 0, 1, 0, 0, 0, 0, 0, 0, 1,\n",
       "       1, 1, 1, 1, 0, 0, 1, 0, 1, 0, 1, 0, 0, 0, 0, 0, 1, 0, 1, 0, 1, 0,\n",
       "       0, 0, 1, 1, 1, 1, 0, 0, 1, 0, 1, 0, 0, 0, 0, 1, 0, 0, 1, 0, 1, 0,\n",
       "       1, 0, 1, 1, 1, 1, 0, 1, 0, 0, 0, 1, 0, 0, 1, 0, 1, 0, 1, 1, 1, 1,\n",
       "       0, 0, 0, 0, 1, 0, 1, 0, 1, 0, 0, 0, 0, 0, 0, 0, 1, 0, 0, 0, 1, 1,\n",
       "       0, 0, 0, 0, 0, 0, 0, 0, 1, 1, 0, 1, 0, 0, 0, 0, 0, 1, 1, 1, 1, 0,\n",
       "       0, 0, 0, 0, 0, 0, 0, 0, 0, 0, 1, 0, 0, 0, 0, 0, 0, 0, 1, 1, 0, 1,\n",
       "       0, 0, 0, 1, 0, 1, 1, 1, 0, 0, 0, 0, 0, 0, 0, 1, 1, 0, 1, 0, 0, 0,\n",
       "       1, 1, 0, 1, 0, 0, 1, 0, 0, 0, 0, 0, 0, 1, 0, 1, 0, 1, 0, 1, 1, 0,\n",
       "       0, 0, 1, 0, 1, 0, 0, 1, 0, 1, 1, 1, 1, 0, 0, 0, 1, 1, 0, 1, 0, 1,\n",
       "       1, 1, 0, 0, 0, 0, 0, 0, 1, 1, 0, 1, 0, 0, 0, 0, 0, 1, 1, 0, 0, 1,\n",
       "       0, 1, 0, 0, 1, 0, 1, 0, 0, 0, 0, 0, 1, 1, 1, 1, 0, 0, 1, 0, 0, 0])"
      ]
     },
     "execution_count": 14,
     "metadata": {},
     "output_type": "execute_result"
    }
   ],
   "source": [
    "#predict for test and view\n",
    "predictions = my_model.predict(test[columns])\n",
    "predictions"
   ]
  },
  {
   "cell_type": "code",
   "execution_count": 259,
   "metadata": {},
   "outputs": [],
   "source": [
    "#prepare submission file\n",
    "submit = pd.DataFrame({\n",
    "    'PassengerId': gender_submission['PassengerId'],\n",
    "    'Survived': predictions\n",
    "})\n",
    "\n",
    "submit.to_csv('submission7.csv', index = False)\n"
   ]
  },
  {
   "cell_type": "code",
   "execution_count": null,
   "metadata": {},
   "outputs": [],
   "source": []
  }
 ],
 "metadata": {
  "kernelspec": {
   "display_name": "Python 3",
   "language": "python",
   "name": "python3"
  },
  "language_info": {
   "codemirror_mode": {
    "name": "ipython",
    "version": 3
   },
   "file_extension": ".py",
   "mimetype": "text/x-python",
   "name": "python",
   "nbconvert_exporter": "python",
   "pygments_lexer": "ipython3",
   "version": "3.6.5"
  }
 },
 "nbformat": 4,
 "nbformat_minor": 2
}
